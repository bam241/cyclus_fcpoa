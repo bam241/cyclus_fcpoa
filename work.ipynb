{
 "cells": [
  {
   "cell_type": "code",
   "execution_count": 2,
   "metadata": {},
   "outputs": [],
   "source": [
    "import sys \n",
    "import os\n",
    "sys.path.append(os.path.abspath(\"/Users/mouginot/work/helpmetric\"))\n",
    "import mytool as mt\n",
    "import numpy as np"
   ]
  },
  {
   "cell_type": "code",
   "execution_count": 3,
   "metadata": {},
   "outputs": [
    {
     "data": {
      "text/plain": [
       "array([1.5, 1. , 0.5])"
      ]
     },
     "execution_count": 3,
     "metadata": {},
     "output_type": "execute_result"
    }
   ],
   "source": [
    "cut = [0.5, 0.5, 0.5]\n",
    "\n",
    "mt.calc_feed_flows(3, 0, 1, cut)"
   ]
  },
  {
   "cell_type": "code",
   "execution_count": 4,
   "metadata": {
    "scrolled": true
   },
   "outputs": [
    {
     "name": "stdout",
     "output_type": "stream",
     "text": [
      "virtual cut 0.109375\n",
      "26.336813209666015\n",
      "3.2290895478933574\n",
      "0.3912989227633823\n",
      "0.042798319677244935\n"
     ]
    }
   ],
   "source": [
    "#Case 1 no recycling\n",
    "v = 0.109375\n",
    "print(\"virtual cut\", v)\n",
    "cut = [v, v, v, v]\n",
    "\n",
    "flow = mt.calc_feed_flows(4, 0, 1, cut)\n",
    "tot = np.sum(flow)\n",
    "cent_per_unit = 30/tot\n",
    "for flow_ in flow:\n",
    "    print(cent_per_unit*flow_)"
   ]
  },
  {
   "cell_type": "code",
   "execution_count": 8,
   "metadata": {},
   "outputs": [
    {
     "name": "stdout",
     "output_type": "stream",
     "text": [
      "virtual cut 0.109375\n",
      "25.786172491400155\n",
      "3.3506205497807513\n",
      "0.5953773288801222\n",
      "0.1896982374740563\n",
      "0.07813139246491452\n"
     ]
    }
   ],
   "source": [
    "#Case 2 no recycling\n",
    "v = 0.109375\n",
    "print(\"virtual cut\", v)\n",
    "cut = [0.109375, 0.128342, 0.215694, 0.411872, 0.547009]\n",
    "\n",
    "flow = mt.calc_feed_flows(5, 0, 1, cut)\n",
    "tot = np.sum(flow)\n",
    "cent_per_unit = 30/tot\n",
    "for flow_ in flow:\n",
    "    print(cent_per_unit*flow_)"
   ]
  },
  {
   "cell_type": "code",
   "execution_count": 6,
   "metadata": {},
   "outputs": [
    {
     "name": "stdout",
     "output_type": "stream",
     "text": [
      "virtual cut 0.109375\n",
      "26.444921316165956\n",
      "3.204577968526467\n",
      "0.3505007153075823\n"
     ]
    }
   ],
   "source": [
    "#Case 1 recycling\n",
    "v = 0.109375\n",
    "print(\"virtual cut\", v)\n",
    "cut = [v, v, v]\n",
    "\n",
    "\n",
    "flow = mt.calc_feed_flows(3, 0, 1, cut)\n",
    "tot = np.sum(flow)\n",
    "cent_per_unit = 30/tot\n",
    "for flow_ in flow:\n",
    "    print(cent_per_unit*flow_)"
   ]
  },
  {
   "cell_type": "code",
   "execution_count": 7,
   "metadata": {},
   "outputs": [
    {
     "name": "stdout",
     "output_type": "stream",
     "text": [
      "virtual cut 0.109375\n",
      "26.047225431064682\n",
      "3.315665416640822\n",
      "0.5240703271501721\n",
      "0.11303882514432921\n"
     ]
    }
   ],
   "source": [
    "#Case 2 recycling\n",
    "v = 0.109375\n",
    "print(\"virtual cut\", v)\n",
    "cut = [0.109375, 0.128342, 0.215694, 0.411872]\n",
    "\n",
    "\n",
    "\n",
    "flow = mt.calc_feed_flows(4, 0, 1, cut)\n",
    "tot = np.sum(flow)\n",
    "cent_per_unit = 30/tot\n",
    "for flow_ in flow:\n",
    "    print(cent_per_unit*flow_)"
   ]
  },
  {
   "cell_type": "code",
   "execution_count": 23,
   "metadata": {},
   "outputs": [
    {
     "name": "stdout",
     "output_type": "stream",
     "text": [
      "virtual cut 0.10929260990290672\n",
      "26.339862847740008\n",
      "3.2267449617777904\n",
      "0.39069239857293847\n",
      "0.0426997919092631\n"
     ]
    }
   ],
   "source": [
    "v = 3.99756e-06*secpermonth*0.458345/44.0879\n",
    "print(\"virtual cut\", v)\n",
    "cut = [v, v, v, v]\n",
    "\n",
    "flow = mt.calc_feed_flows(4, 0, 1, cut)\n",
    "tot = np.sum(flow)\n",
    "cent_per_unit = 30/tot\n",
    "for flow_ in flow:\n",
    "    print(cent_per_unit*flow_)"
   ]
  },
  {
   "cell_type": "code",
   "execution_count": null,
   "metadata": {},
   "outputs": [],
   "source": []
  },
  {
   "cell_type": "code",
   "execution_count": null,
   "metadata": {},
   "outputs": [],
   "source": []
  },
  {
   "cell_type": "code",
   "execution_count": null,
   "metadata": {},
   "outputs": [],
   "source": []
  }
 ],
 "metadata": {
  "kernelspec": {
   "display_name": "Python 3",
   "language": "python",
   "name": "python3"
  },
  "language_info": {
   "codemirror_mode": {
    "name": "ipython",
    "version": 3
   },
   "file_extension": ".py",
   "mimetype": "text/x-python",
   "name": "python",
   "nbconvert_exporter": "python",
   "pygments_lexer": "ipython3",
   "version": "3.5.4"
  }
 },
 "nbformat": 4,
 "nbformat_minor": 2
}
