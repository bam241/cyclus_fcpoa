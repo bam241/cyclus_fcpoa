{
 "cells": [
  {
   "cell_type": "code",
   "execution_count": 1,
   "metadata": {},
   "outputs": [],
   "source": [
    "import sys \n",
    "import os\n",
    "sys.path.append(os.path.abspath(\"/Users/mouginot/work/helpmetric\"))\n",
    "import mytool as mt\n",
    "import numpy as np"
   ]
  },
  {
   "cell_type": "code",
   "execution_count": 2,
   "metadata": {},
   "outputs": [
    {
     "data": {
      "text/plain": [
       "array([1.5, 1. , 0.5])"
      ]
     },
     "execution_count": 2,
     "metadata": {},
     "output_type": "execute_result"
    }
   ],
   "source": [
    "cut = [0.5, 0.5, 0.5]\n",
    "\n",
    "mt.calc_feed_flows(3, 0, 1, cut)"
   ]
  },
  {
   "cell_type": "code",
   "execution_count": 3,
   "metadata": {},
   "outputs": [],
   "source": [
    "tails = 2.58459e-05*(1-0.445579)\n",
    "feed = 9.64432e-05 - 7.05973e-05*(1-0.446284) - 8.76589e-05*0.445943\n",
    "prod = 8.78422e-06*0.447614"
   ]
  },
  {
   "cell_type": "code",
   "execution_count": 4,
   "metadata": {},
   "outputs": [
    {
     "data": {
      "text/plain": [
       "2.3015520003003584e-11"
      ]
     },
     "execution_count": 4,
     "metadata": {},
     "output_type": "execute_result"
    }
   ],
   "source": [
    "feed - prod - tails"
   ]
  },
  {
   "cell_type": "code",
   "execution_count": 5,
   "metadata": {},
   "outputs": [
    {
     "data": {
      "text/plain": [
       "0.21531340540003746"
      ]
     },
     "execution_count": 5,
     "metadata": {},
     "output_type": "execute_result"
    }
   ],
   "source": [
    "prod/feed"
   ]
  },
  {
   "cell_type": "code",
   "execution_count": 6,
   "metadata": {},
   "outputs": [
    {
     "data": {
      "text/plain": [
       "0.7846853342678678"
      ]
     },
     "execution_count": 6,
     "metadata": {},
     "output_type": "execute_result"
    }
   ],
   "source": [
    "tails/feed"
   ]
  },
  {
   "cell_type": "code",
   "execution_count": 7,
   "metadata": {},
   "outputs": [],
   "source": [
    "cut = [0.7846853342678678, 0.7846853342678678, 0.7846853342678678, 0.7846853342678678, 0.7846853342678678]\n",
    "\n",
    "flow = mt.calc_feed_flows(5, 0, 1, cut)"
   ]
  },
  {
   "cell_type": "code",
   "execution_count": 8,
   "metadata": {
    "scrolled": true
   },
   "outputs": [
    {
     "name": "stdout",
     "output_type": "stream",
     "text": [
      "6.480003079611041\n",
      "6.45330603577972\n",
      "6.35601225092994\n",
      "6.00143814039529\n",
      "4.709240493284009\n"
     ]
    }
   ],
   "source": [
    "tot = np.sum(flow)\n",
    "cent_per_unit = 30/tot\n",
    "for flow_ in flow:\n",
    "    print(cent_per_unit*flow_)"
   ]
  },
  {
   "cell_type": "code",
   "execution_count": 9,
   "metadata": {},
   "outputs": [
    {
     "name": "stdout",
     "output_type": "stream",
     "text": [
      "5.333902662092381\n",
      "5.327879557054236\n",
      "5.305929160994978\n",
      "5.225933895412374\n",
      "4.934401911280717\n",
      "3.8719528131653154\n"
     ]
    }
   ],
   "source": [
    "cut = [0.7846853342678678, 0.7846853342678678, 0.7846853342678678, 0.7846853342678678, 0.7846853342678678, 0.7846853342678678]\n",
    "\n",
    "flow = mt.calc_feed_flows(6, 0, 1, cut)\n",
    "tot = np.sum(flow)\n",
    "cent_per_unit = 30/tot\n",
    "for flow_ in flow:\n",
    "    print(cent_per_unit*flow_)"
   ]
  },
  {
   "cell_type": "code",
   "execution_count": 10,
   "metadata": {},
   "outputs": [
    {
     "name": "stdout",
     "output_type": "stream",
     "text": [
      "11.17266193060624\n",
      "10.549388011370255\n",
      "8.277950058023507\n"
     ]
    }
   ],
   "source": [
    "cut = [0.7846853342678678, 0.7846853342678678, 0.7846853342678678]\n",
    "\n",
    "flow = mt.calc_feed_flows(3, 0, 1, cut)\n",
    "tot = np.sum(flow)\n",
    "cent_per_unit = 30/tot\n",
    "for flow_ in flow:\n",
    "    print(cent_per_unit*flow_)"
   ]
  },
  {
   "cell_type": "code",
   "execution_count": 11,
   "metadata": {},
   "outputs": [
    {
     "name": "stdout",
     "output_type": "stream",
     "text": [
      "7.724309332444871\n",
      "7.716425426641947\n",
      "7.6409461352327375\n",
      "6.918319105680445\n"
     ]
    }
   ],
   "source": [
    "tails = 5.22872e-05*(1-0.44582)\n",
    "feed = 0.000128291 - 9.78905e-05*(1-0.446284) - 9.43715e-05*0.445943\n",
    "prod = 6.74226e-06*0.448839\n",
    "tails/feed\n",
    "cut = [tails/feed, tails/feed, tails/feed, tails/feed]\n",
    "flow = mt.calc_feed_flows(4, 0, 1, cut)\n",
    "tot = np.sum(flow)\n",
    "cent_per_unit = 30/tot\n",
    "for flow_ in flow:\n",
    "    print(cent_per_unit*flow_)"
   ]
  },
  {
   "cell_type": "code",
   "execution_count": 12,
   "metadata": {},
   "outputs": [
    {
     "data": {
      "text/plain": [
       "169"
      ]
     },
     "execution_count": 12,
     "metadata": {},
     "output_type": "execute_result"
    }
   ],
   "source": [
    "15+27+36+28+21+16+11+8+5+2"
   ]
  },
  {
   "cell_type": "code",
   "execution_count": 13,
   "metadata": {},
   "outputs": [
    {
     "data": {
      "text/plain": [
       "30"
      ]
     },
     "execution_count": 13,
     "metadata": {},
     "output_type": "execute_result"
    }
   ],
   "source": [
    "8+8+7+7"
   ]
  },
  {
   "cell_type": "code",
   "execution_count": 14,
   "metadata": {},
   "outputs": [
    {
     "data": {
      "text/plain": [
       "168.66666666666666"
      ]
     },
     "execution_count": 14,
     "metadata": {},
     "output_type": "execute_result"
    }
   ],
   "source": [
    "5060/30."
   ]
  },
  {
   "cell_type": "code",
   "execution_count": 15,
   "metadata": {},
   "outputs": [
    {
     "data": {
      "text/plain": [
       "3.4213570244316003"
      ]
     },
     "execution_count": 15,
     "metadata": {},
     "output_type": "execute_result"
    }
   ],
   "source": [
    "secpermonth = 60.*60.*24.*(365.25/12.)\n",
    "\n",
    "2.44502e-06*secpermonth *0.5321"
   ]
  },
  {
   "cell_type": "code",
   "execution_count": 16,
   "metadata": {},
   "outputs": [
    {
     "ename": "SyntaxError",
     "evalue": "invalid syntax (<ipython-input-16-7711cc76a4ca>, line 1)",
     "output_type": "error",
     "traceback": [
      "\u001b[0;36m  File \u001b[0;32m\"<ipython-input-16-7711cc76a4ca>\"\u001b[0;36m, line \u001b[0;32m1\u001b[0m\n\u001b[0;31m    case1 = 707.366 3.4213570244316003 703.9444705819201\u001b[0m\n\u001b[0m                                     ^\u001b[0m\n\u001b[0;31mSyntaxError\u001b[0m\u001b[0;31m:\u001b[0m invalid syntax\n"
     ]
    }
   ],
   "source": [
    "case1 = 707.366 3.4213570244316003 703.9444705819201  \n",
    "case2 = 45.8358\n",
    "case2_2 = 45.8358 10.6109620624107 35.2247773953456\n",
    "case2_3 = 33.9353 3.9346655602120015 30.0006211665168\n"
   ]
  },
  {
   "cell_type": "code",
   "execution_count": 17,
   "metadata": {},
   "outputs": [
    {
     "data": {
      "text/plain": [
       "225"
      ]
     },
     "execution_count": 17,
     "metadata": {},
     "output_type": "execute_result"
    }
   ],
   "source": [
    "45*5"
   ]
  },
  {
   "cell_type": "code",
   "execution_count": 18,
   "metadata": {},
   "outputs": [
    {
     "name": "stdout",
     "output_type": "stream",
     "text": [
      "virtual cut 0.10929260990290672\n",
      "26.447738111005492\n",
      "3.202276709754178\n",
      "0.349985179240327\n"
     ]
    }
   ],
   "source": [
    "v = 3.99756e-06*secpermonth*0.458345/44.0879\n",
    "print(\"virtual cut\", v)\n",
    "cut = [v, v, v]\n",
    "\n",
    "flow = mt.calc_feed_flows(3, 0, 1, cut)\n",
    "tot = np.sum(flow)\n",
    "cent_per_unit = 30/tot\n",
    "for flow_ in flow:\n",
    "    print(cent_per_unit*flow_)"
   ]
  },
  {
   "cell_type": "code",
   "execution_count": 19,
   "metadata": {},
   "outputs": [
    {
     "data": {
      "text/plain": [
       "4.818481656138361"
      ]
     },
     "execution_count": 19,
     "metadata": {},
     "output_type": "execute_result"
    }
   ],
   "source": [
    "3.99756e-06*0.458345*secpermonth"
   ]
  },
  {
   "cell_type": "code",
   "execution_count": 20,
   "metadata": {},
   "outputs": [
    {
     "data": {
      "text/plain": [
       "4.306458967931736"
      ]
     },
     "execution_count": 20,
     "metadata": {},
     "output_type": "execute_result"
    }
   ],
   "source": [
    "3.05837e-06*0.535436*secpermonth"
   ]
  },
  {
   "cell_type": "code",
   "execution_count": 22,
   "metadata": {},
   "outputs": [
    {
     "name": "stdout",
     "output_type": "stream",
     "text": [
      "virtual cut 0.10929260990290672\n",
      "26.725034831650053\n",
      "2.9208488064971236\n",
      "0.3192271891938608\n",
      "0.03488917265896603\n"
     ]
    }
   ],
   "source": [
    "v = 3.99756e-06*secpermonth*0.458345/44.0879\n",
    "print(\"virtual cut\", v)\n",
    "cut = [v, v, v, v]\n",
    "\n",
    "flow = mt.calc_feed_flows_no_back(4, 0, 1, cut)\n",
    "tot = np.sum(flow)\n",
    "cent_per_unit = 30/tot\n",
    "for flow_ in flow:\n",
    "    print(cent_per_unit*flow_)"
   ]
  },
  {
   "cell_type": "code",
   "execution_count": 23,
   "metadata": {},
   "outputs": [
    {
     "name": "stdout",
     "output_type": "stream",
     "text": [
      "virtual cut 0.10929260990290672\n",
      "26.339862847740008\n",
      "3.2267449617777904\n",
      "0.39069239857293847\n",
      "0.0426997919092631\n"
     ]
    }
   ],
   "source": [
    "v = 3.99756e-06*secpermonth*0.458345/44.0879\n",
    "print(\"virtual cut\", v)\n",
    "cut = [v, v, v, v]\n",
    "\n",
    "flow = mt.calc_feed_flows(4, 0, 1, cut)\n",
    "tot = np.sum(flow)\n",
    "cent_per_unit = 30/tot\n",
    "for flow_ in flow:\n",
    "    print(cent_per_unit*flow_)"
   ]
  },
  {
   "cell_type": "code",
   "execution_count": null,
   "metadata": {},
   "outputs": [],
   "source": []
  },
  {
   "cell_type": "code",
   "execution_count": null,
   "metadata": {},
   "outputs": [],
   "source": []
  },
  {
   "cell_type": "code",
   "execution_count": null,
   "metadata": {},
   "outputs": [],
   "source": []
  }
 ],
 "metadata": {
  "kernelspec": {
   "display_name": "Python 3",
   "language": "python",
   "name": "python3"
  },
  "language_info": {
   "codemirror_mode": {
    "name": "ipython",
    "version": 3
   },
   "file_extension": ".py",
   "mimetype": "text/x-python",
   "name": "python",
   "nbconvert_exporter": "python",
   "pygments_lexer": "ipython3",
   "version": "3.5.4"
  }
 },
 "nbformat": 4,
 "nbformat_minor": 2
}
